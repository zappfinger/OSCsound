{
 "metadata": {
  "name": "OSCMessageTest"
 },
 "nbformat": 3,
 "nbformat_minor": 0,
 "worksheets": [
  {
   "cells": [
    {
     "cell_type": "code",
     "collapsed": false,
     "input": [
      "from OSC import OSCClient, OSCMessage\n",
      "client = OSCClient()\n",
      "client.connect( (\"localhost\", 7110) )\n",
      "\n",
      "client.send( OSCMessage(\"/sco\", [\"i2 0 10\" ] ) )"
     ],
     "language": "python",
     "metadata": {},
     "outputs": [],
     "prompt_number": 41
    },
    {
     "cell_type": "code",
     "collapsed": false,
     "input": [
      "from OSC import OSCClient, OSCMessage\n",
      "client = OSCClient()\n",
      "client.connect( (\"localhost\", 7110) )\n",
      "\n",
      "client.send( OSCMessage(\"/cc/cutoff2\", [ 3000 ] ) )"
     ],
     "language": "python",
     "metadata": {},
     "outputs": [],
     "prompt_number": 40
    },
    {
     "cell_type": "code",
     "collapsed": false,
     "input": [
      "from OSC import OSCClient, OSCMessage\n",
      "client = OSCClient()\n",
      "client.connect( (\"localhost\", 7110) )\n",
      "\n",
      "client.send( OSCMessage(\"/quit\") )"
     ],
     "language": "python",
     "metadata": {},
     "outputs": [],
     "prompt_number": 37
    },
    {
     "cell_type": "code",
     "collapsed": false,
     "input": [
      "from OSC import OSCClient, OSCMessage\n",
      "client = OSCClient()\n",
      "client.connect( (\"localhost\", 7110) )\n",
      "\n",
      "client.send( OSCMessage(\"/inst\", [\n",
      "\"\"\"instr 2 \n",
      "\n",
      "kcutoff chnget \"cutoff2\"\n",
      "kres    chnget \"resonance2\"\n",
      "\n",
      "kcutoff port kcutoff, 0.05\n",
      "kres port kres, 0.05\n",
      "\n",
      "aout vco2 0.5, 220\n",
      "aout moogladder aout, kcutoff, kres\n",
      "outs aout, aout\n",
      "endin\"\"\" ] ) )"
     ],
     "language": "python",
     "metadata": {},
     "outputs": [],
     "prompt_number": 38
    },
    {
     "cell_type": "code",
     "collapsed": false,
     "input": [],
     "language": "python",
     "metadata": {},
     "outputs": []
    }
   ],
   "metadata": {}
  }
 ]
}